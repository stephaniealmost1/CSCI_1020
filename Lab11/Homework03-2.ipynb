{
  "cells": [
    {
      "cell_type": "code",
      "execution_count": null,
      "metadata": {
        "id": "quKmWRNLSrKJ"
      },
      "outputs": [],
      "source": [
        "# Stephanie Ish "
      ]
    },
    {
      "cell_type": "code",
      "execution_count": null,
      "metadata": {
        "id": "-eS2FI2cpf0c"
      },
      "outputs": [],
      "source": [
        "## Part I: Computing the alignment table\n",
        "\n",
        "# Instead of looping I passed in the characters to compare so I could put it through another loop\n",
        "def alignmentScore(char1, char2, match=1, mismatch=-1, gap=-1):\n",
        "    score=0\n",
        "    \n",
        "    if char1 == '-' or char2 == '-':\n",
        "        score += gap\n",
        "\n",
        "    elif char1 == char2:\n",
        "        score += match\n",
        "\n",
        "    else:\n",
        "        score += mismatch\n",
        "\n",
        "    return score"
      ]
    },
    {
      "cell_type": "code",
      "execution_count": null,
      "metadata": {
        "id": "b38o8DxDP1M2"
      },
      "outputs": [],
      "source": [
        "\n",
        "############################################################################\n",
        "# hw03: Implementation of the Needleman-Wunsch Global Pairwise Alignment algorithm\n",
        "############################################################################\n",
        "\n",
        "def buildTable(X, Y, match=1, mismatch=-1, gap=-1):\n",
        "    print(\"Sequence 1:\", X)\n",
        "    print(\"Sequence 2:\", Y)\n",
        "\n",
        "    len_x=len(X)\n",
        "    len_y=len(Y)\n",
        "    \n",
        "    alignment_table = []\n",
        "\n",
        "    #Task 1 - Initialize w/ all 0's\n",
        "\n",
        "    alignment_table=[[0] * (len_y+1) for i in range(len_x+1)]\n",
        "    \n",
        "    \n",
        "  #Task 2 Use Lab08 codes to initialize the first row and first column.\n",
        "    #First Row\n",
        "    for i in range(1,len_y+1):\n",
        "        alignment_table[0][i] = alignment_table[0][i-1] + gap\n",
        "    #First Column\n",
        "    for s in range(1, len_x+1):\n",
        "        alignment_table[s][0] = alignment_table[s-1][0] + gap\n",
        "\n",
        "    \n",
        "    #### Note 4: How to calculate the optimal score in each cell? left-to-right? top-to-bottom? diagonal?  \n",
        "    # Please write your codes here!\n",
        "    score1=0\n",
        "    score2=0\n",
        "    score3=0\n",
        "\n",
        "    for posX in range(1,len_x + 1):\n",
        "        for posY in range(1, len_y + 1):\n",
        "             \n",
        "            # Calculate the score by checking the top to bottom, left to right, and diagonal cells\n",
        "\n",
        "            score1 = alignment_table[posX - 1][posY - 1] + alignmentScore(Y[posY-1], X[posX-1])\n",
        "            score2 = alignment_table[posX - 1][posY] + gap\n",
        "            score3 = alignment_table[posX][posY - 1] + gap\n",
        "\n",
        "           # Taking max out of three scores \n",
        "            alignment_table[posX][posY] = max(score1, score2, score3)\n",
        "\n",
        "    #### Print the final table  \n",
        "    for i in range(len(alignment_table)):\n",
        "        print(f\"Row {i}: {alignment_table[i]}\")\n",
        "\n",
        "    #### return the final table \n",
        "    return alignment_table"
      ]
    },
    {
      "cell_type": "code",
      "execution_count": null,
      "metadata": {
        "id": "e-CejduKWR6Q"
      },
      "outputs": [],
      "source": [
        "# Part 2: Reconstructing the optimal alignment\n",
        "\n",
        "# You can directly copy the following codes to Google Colab for use\n",
        "def TraceBack(X, Y, table, match=1, mismatch=-1, gap=-1):\n",
        "    first = ''        # alignment for X\n",
        "    second = ''       # alignment for Y\n",
        "    glue = ''         # line showing matches/mismatches\n",
        "    # start reconstruction at bottom-right of table\n",
        "    j = len(X)\n",
        "    k = len(Y)\n",
        "\n",
        "    while j>0 or k>0:\n",
        "        #### \n",
        "        ##   This block checks if the best score at cell j,k is derived from the top-left cell with diagonal direction\n",
        "        ###########################################################################################################\n",
        "        if j>0 and k>0 and ((X[j-1] == Y[k-1] and table[j][k] == table[j-1][k-1] + match) or (X[j-1] != Y[k-1] and table[j][k] == table[j-1][k-1] + mismatch)):\n",
        "            # option1 above; match X[j-1] with Y[k-1]\n",
        "            first =  X[j-1] + first\n",
        "            second = Y[k-1] + second\n",
        "            if X[j-1] == Y[k-1] and table[j][k] == table[j-1][k-1] + match:\n",
        "              glue = '|' + glue   # designate match\n",
        "            elif X[j-1] != Y[k-1] and table[j][k] == table[j-1][k-1] + mismatch:\n",
        "              glue = '.' + glue   # designate mismatch\n",
        "            j = j-1\n",
        "            k = k-1\n",
        "        \n",
        "        #### \n",
        "        ##   This block checks if the best score at cell j,k is derived from the top cell with vertical direction\n",
        "        ###########################################################################################################\n",
        "        elif j > 0 and table[j][k] == table[j-1][k] + gap:\n",
        "            # option1 above; match X[j-1] with a gap in Y\n",
        "            first  = X[j-1] + first\n",
        "            second = '-' + second\n",
        "            glue   = ' ' + glue\n",
        "            j = j-1\n",
        "\n",
        "        ####\n",
        "        ##   This block checks if the best score at cell j,k is derived from the left cell with horizontal direction\n",
        "        ###########################################################################################################\n",
        "        elif k > 0 and table[j][k] == table[j][k-1] + gap:\n",
        "            # option2 above; match gap in X with Y[k-1]\n",
        "            first  = '-'  + first\n",
        "            second = Y[k-1] + second\n",
        "            glue   = ' '  + glue\n",
        "            k = k-1\n",
        "\n",
        "    print(\"The best alignment is:\")\n",
        "    print(first)\n",
        "    print(glue)\n",
        "    print(second)\n",
        "    print(\"The score of optimal alignment is: \",table[len(X)][len(Y)])\n",
        "    return first,glue,second\n",
        "  "
      ]
    },
    {
      "cell_type": "code",
      "execution_count": null,
      "metadata": {
        "colab": {
          "background_save": true,
          "base_uri": "https://localhost:8080/"
        },
        "id": "Ja5E1G_BZh8r",
        "outputId": "bb16cda0-0fbb-46bc-c91f-bece2c387f1e"
      },
      "outputs": [
        {
          "name": "stdout",
          "output_type": "stream",
          "text": [
            "Sequence 1: CACCT\n",
            "Sequence 2: AACT\n",
            "Row 0: [0, -1, -2, -3, -4]\n",
            "Row 1: [-1, -1, -2, -1, -2]\n",
            "Row 2: [-2, 0, 0, -1, -2]\n",
            "Row 3: [-3, -1, -1, 1, 0]\n",
            "Row 4: [-4, -2, -2, 0, 0]\n",
            "Row 5: [-5, -3, -3, -1, 1]\n"
          ]
        }
      ],
      "source": [
        "table = buildTable('CACCT','AACT',match=2, mismatch=-1, gap=-1)\n",
        "TraceBack('CACCT','AACT', table, match=2, mismatch=-1, gap=-1)"
      ]
    },
    {
      "cell_type": "code",
      "execution_count": null,
      "metadata": {
        "colab": {
          "base_uri": "https://localhost:8080/"
        },
        "id": "-QCBLRySWb8B",
        "outputId": "ab3a4edc-96f5-46fe-b47b-2d84c112370b"
      },
      "outputs": [
        {
          "name": "stdout",
          "output_type": "stream",
          "text": [
            "Sequence 1: TTGCT\n",
            "Sequence 2: CTTCCT\n",
            "Row 0: [0, -1, -2, -3, -4, -5, -6]\n",
            "Row 1: [-1, -1, 0, -1, -2, -3, -4]\n",
            "Row 2: [-2, -2, 0, 1, 0, -1, -2]\n",
            "Row 3: [-3, -3, -1, 0, 0, -1, -2]\n",
            "Row 4: [-4, -2, -2, -1, 1, 1, 0]\n",
            "Row 5: [-5, -3, -1, -1, 0, 0, 2]\n",
            "The best alignment is:\n",
            "-TTGCT\n",
            " ||.||\n",
            "CTTCCT\n",
            "The score of optimal alignment is:  2\n"
          ]
        },
        {
          "data": {
            "text/plain": [
              "('-TTGCT', ' ||.||', 'CTTCCT')"
            ]
          },
          "execution_count": 14,
          "metadata": {},
          "output_type": "execute_result"
        }
      ],
      "source": [
        "#sequence1= 'AATATGATA' \n",
        "#sequence2= 'AAGTTCATA'\n",
        "\n",
        "sequence1 = \"TTGCT\"\n",
        "sequence2 = \"CTTCCT\"\n",
        "matchVal=1\n",
        "mismatchVal=-1\n",
        "gapVal=-1\n",
        "final_table = buildTable(sequence1, sequence2, matchVal, mismatchVal, gapVal)\n",
        "TraceBack(sequence1,sequence2,final_table,matchVal, mismatchVal, gapVal)"
      ]
    },
    {
      "cell_type": "code",
      "execution_count": null,
      "metadata": {
        "id": "V-Dz5fq0ZF1v"
      },
      "outputs": [],
      "source": []
    }
  ],
  "metadata": {
    "colab": {
      "provenance": []
    },
    "kernelspec": {
      "display_name": "Python 3",
      "name": "python3"
    },
    "language_info": {
      "name": "python"
    }
  },
  "nbformat": 4,
  "nbformat_minor": 0
}